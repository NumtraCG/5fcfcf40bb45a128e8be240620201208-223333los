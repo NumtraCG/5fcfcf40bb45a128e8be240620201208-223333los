{
 "cells": [
  {
   "cell_type": "markdown",
   "metadata": {},
   "source": [
    "***GENERATED CODE FOR los PIPELINE.***"
   ]
  },
  {
   "cell_type": "markdown",
   "metadata": {},
   "source": [
    "***DON'T EDIT THIS CODE.***"
   ]
  },
  {
   "cell_type": "markdown",
   "metadata": {},
   "source": [
    "***CONNECTOR FUNCTIONS TO READ DATA.***"
   ]
  },
  {
   "cell_type": "code",
   "execution_count": null,
   "metadata": {},
   "outputs": [],
   "source": []
  },
  {
   "cell_type": "markdown",
   "metadata": {},
   "source": [
    "***TRANSFORMATIONS FUNCTIONS THAT WILL BE APPLIED ON DATA***"
   ]
  },
  {
   "cell_type": "code",
   "execution_count": null,
   "metadata": {},
   "outputs": [],
   "source": [
    "import pyspark\n",
    "import json\n",
    "from pyspark.sql.types import IntegerType\n",
    "from pyspark.ml.feature import StringIndexer\n",
    "from pyspark.sql.functions import col, when\n",
    "from pyspark.sql.types import IntegerType\n",
    "from pyspark.sql.functions import mean, stddev, min, max, col\n",
    "\n",
    "\n",
    "class CleanseData:\n",
    "    # def __init__(self,df):\n",
    "    #     #print()\n",
    "\n",
    "    def replaceByMean(self, feature, df, mean_=-1):\n",
    "\n",
    "        meanValue = df.select(mean(col(feature.name)).alias(\n",
    "            'mean')).collect()[0][\"mean\"]\n",
    "        df.fillna(meanValue, subset=[feature.name])\n",
    "        df.withColumn(feature.name, when(col(feature.name) == \" \",\n",
    "                                         meanValue).otherwise(col(feature.name).cast(\"Integer\")))\n",
    "        return df\n",
    "\n",
    "    def replaceByMax(self, feature, df, max_=-1):\n",
    "        maxValue = df.select(max(col(feature.name)).alias('max')).collect()[\n",
    "            0][\"max\"]\n",
    "        df.fillna(maxValue, subset=[feature.name])\n",
    "        df = df.withColumn(feature.name,\n",
    "                           when(col(feature.name) == \" \", maxValue).otherwise(col(feature.name)))\n",
    "        return df\n",
    "\n",
    "    def replaceByMin(self, feature, df, min_=-1):\n",
    "        minValue = df.select(min(col(feature.name)).alias('min')).collect()[\n",
    "            0][\"min\"]\n",
    "        df.fillna(minValue, subset=[feature.name])\n",
    "        df = df.withColumn(feature.name,\n",
    "                           when(col(feature.name) == \" \", minValue).otherwise(col(feature.name)))\n",
    "        return df\n",
    "\n",
    "    def replaceByStandardDeviation(self, feature, df, stddev_=-1):\n",
    "        stddevValue = df.select(stddev(col(feature.name)).alias(\n",
    "            'stddev')).collect()[0][\"stddev\"]\n",
    "        df.fillna(stddevValue, subset=[feature.name])\n",
    "        df = df.withColumn(feature.name,\n",
    "                           when(col(feature.name) == \" \", stddevValue).otherwise(col(feature.name)))\n",
    "        return df\n",
    "\n",
    "    def replaceDateRandomly(self, feature, df):\n",
    "        fillValue = df.where(col(feature.name).isNotNull()\n",
    "                             ).head(1)[0][feature.name]\n",
    "        df.fillna(str(fillValue), subset=[feature.name])\n",
    "        df = df.withColumn(feature.name,\n",
    "                           when(col(feature.name) == \" \", fillValue).otherwise(col(feature.name)))\n",
    "        # print(\"CleanseData:replaceDateRandomly Schema : \", df.#printSchema())\n",
    "        return df\n",
    "\n",
    "    def replaceNullValues(self, fList, df):\n",
    "        featuresList = df.schema.fields\n",
    "        for featureObj in fList:\n",
    "            for feat in featuresList:\n",
    "                if featureObj[\"feature\"] in feat.name:\n",
    "                    featureName = feat\n",
    "                    if \"mean\" in featureObj[\"replaceby\"]:\n",
    "                        df = self.replaceByMean(featureName, df)\n",
    "                    elif \"max\" in featureObj[\"replaceby\"]:\n",
    "                        df = self.replaceByMax(featureName, df)\n",
    "                    elif \"min\" in featureObj[\"replaceby\"]:\n",
    "                        df = self.replaceByMin(featureName, df)\n",
    "                    elif \"stddev\" in featureObj[\"replaceby\"]:\n",
    "                        df = self.replaceByStandardDeviation(featureName, df)\n",
    "                    elif \"random\" in featureObj[\"replaceby\"]:\n",
    "                        df = self.replaceDateRandomly(featureName, df)\n",
    "        return df\n",
    "\n",
    "\n",
    "def StringIndexerTransform(df, params, transformationData={}):\n",
    "    dfReturn = df\n",
    "    feature = params[\"feature\"]\n",
    "\n",
    "    dfReturn = dfReturn.fillna({feature: ''})\n",
    "    outcol = feature + \"_stringindexer\"\n",
    "    indexer = StringIndexer(\n",
    "        inputCol=feature, outputCol=outcol, handleInvalid=\"skip\")\n",
    "    indexed = indexer.fit(dfReturn).transform(dfReturn)\n",
    "    dfReturn = indexed\n",
    "    distinct_values_list = dfReturn.select(\n",
    "        outcol).distinct().rdd.map(lambda r: r[0]).collect()\n",
    "    len_distinct_values_list = len(distinct_values_list)\n",
    "    if len_distinct_values_list <= 4:\n",
    "        changed_type_df = dfReturn.withColumn(\n",
    "            outcol, dfReturn[outcol].cast(IntegerType()))\n",
    "        return changed_type_df\n",
    "    return dfReturn\n",
    "\n",
    "\n",
    "class TransformationTimeSeriesForecastingMain:\n",
    "    # TODO: change df argument in run with following\n",
    "    def run(transformationDF, config):\n",
    "        configObj = json.loads(config)\n",
    "        featureData = configObj[\"FE\"]['featureList']\n",
    "        ForecastFE = configObj[\"FE\"]\n",
    "        featuresSelectedList = [ForecastFE['features']\n",
    "                                ['timecolumn'], ForecastFE['features']['tocompare']]\n",
    "        transformedDF = transformationDF.select(\n",
    "            [c for c in transformationDF.columns if c in featuresSelectedList])\n",
    "        transformedDF = CleanseData().replaceNullValues(featureData, transformedDF)\n",
    "        transformationDF = StringIndexerTransform(transformationDF, {'transformationsData': [{'feature_label': 'vdate', 'transformation_label': 'String Indexer'}], 'feature': 'vdate', 'type': 'string', 'selected': 'True', 'replaceby': 'max', 'stats': {\n",
    "                                                  'count': '48', 'mean': '', 'stddev': '', 'min': '01/04/12', 'max': '12/31/12', 'missing': '0'}, 'transformation': [{'transformation': 'String Indexer', 'selectedAsDefault': 1}], 'updatedLabel': 'vdate'}, {'feature_label': 'vdate', 'transformation_label': 'String Indexer'})\n",
    "        transformationDF = transformationDF.drop('vdate')\n",
    "        transformationDF = StringIndexerTransform(transformationDF, {'transformationsData': [{'feature_label': 'rcount', 'transformation_label': 'String Indexer'}], 'feature': 'rcount', 'type': 'string', 'selected': 'True', 'replaceby': 'max', 'stats': {\n",
    "            'count': '48', 'mean': '0.83', 'stddev': '1.15', 'min': '0', 'max': '4', 'missing': '0'}, 'transformation': [{'transformation': 'String Indexer', 'selectedAsDefault': 1}], 'updatedLabel': 'rcount'}, {'feature_label': 'rcount', 'transformation_label': 'String Indexer'})\n",
    "        transformationDF = transformationDF.drop('rcount')\n",
    "        transformationDF = StringIndexerTransform(transformationDF, {'transformationsData': [{'feature_label': 'gender', 'transformation_label': 'String Indexer'}], 'feature': 'gender', 'type': 'string', 'selected': 'True', 'replaceby': 'max', 'stats': {\n",
    "            'count': '48', 'mean': '', 'stddev': '', 'min': 'F', 'max': 'M', 'missing': '0'}, 'transformation': [{'transformation': 'String Indexer', 'selectedAsDefault': 1}], 'updatedLabel': 'gender'}, {'feature_label': 'gender', 'transformation_label': 'String Indexer'})\n",
    "        transformationDF = transformationDF.drop('gender')\n",
    "        transformationDF = StringIndexerTransform(transformationDF, {'transformationsData': [{'feature_label': 'discharged', 'transformation_label': 'String Indexer'}], 'feature': 'discharged', 'type': 'string', 'selected': 'True', 'replaceby': 'max', 'stats': {\n",
    "            'count': '48', 'mean': '', 'stddev': '', 'min': '01/04/13', 'max': '12/21/12', 'missing': '0'}, 'transformation': [{'transformation': 'String Indexer', 'selectedAsDefault': 1}], 'updatedLabel': 'discharged'}, {'feature_label': 'discharged', 'transformation_label': 'String Indexer'})\n",
    "        transformationDF = transformationDF.drop('discharged')\n",
    "        transformationDF = StringIndexerTransform(transformationDF, {'transformationsData': [{'feature_label': 'facid', 'transformation_label': 'String Indexer'}], 'feature': 'facid', 'type': 'string', 'selected': 'True', 'replaceby': 'max', 'stats': {\n",
    "            'count': '48', 'mean': '', 'stddev': '', 'min': 'A', 'max': 'E', 'missing': '0'}, 'transformation': [{'transformation': 'String Indexer', 'selectedAsDefault': 1}], 'updatedLabel': 'facid'}, {'feature_label': 'facid', 'transformation_label': 'String Indexer'})\n",
    "        transformationDF = transformationDF.drop('facid')\n",
    "\n",
    "        transformedDF.persist(pyspark.StorageLevel.MEMORY_AND_DISK)\n",
    "        df = transformedDF.toPandas()\n",
    "        return df\n"
   ]
  },
  {
   "cell_type": "markdown",
   "metadata": {},
   "source": [
    "***AUTOML FUNCTIONS***"
   ]
  },
  {
   "cell_type": "code",
   "execution_count": null,
   "metadata": {},
   "outputs": [],
   "source": [
    "from fbprophet import Prophet\n",
    "import pandas as pd\n",
    "\n",
    "\n",
    "def driverProphet(df):\n",
    "    df.columns = ['ds', 'y']\n",
    "    df['ds'] = df['ds'].astype(str).str[:-6]\n",
    "    df['ds'] = pd.to_datetime(df['ds'])\n",
    "    m = Prophet()\n",
    "    m.fit(df)\n",
    "    future = m.make_future_dataframe(periods=365)\n",
    "    forecast = m.predict(future)\n",
    "    forecast[['ds', 'yhat', 'yhat_lower', 'yhat_upper']].tail()\n",
    "    m.plot(forecast)\n",
    "    return m\n"
   ]
  },
  {
   "cell_type": "markdown",
   "metadata": {},
   "source": [
    "***READING DATAFRAME***"
   ]
  },
  {
   "cell_type": "code",
   "execution_count": null,
   "metadata": {},
   "outputs": [],
   "source": [
    "from pyspark.sql import SparkSession\n",
    "spark = SparkSession.builder.getOrCreate()\n",
    "\n",
    "#%run losHooks.ipynb\n",
    "try:\n",
    "\t#sourcePreExecutionHook()\n",
    "\n",
    "\tlocalfile = HDFSConnector.fetch(spark, \"{'is_header': 'Use Header Line', 'fileType': 'Delimeted', 'domain': 'http://35.230.65.179', 'baseType': 'hdfs', 'url': '/FileStore/platform/uploadedSourceFiles/LengthOfStay_Prod.csv', 'filename': 'LengthOfStay_Prod.csv', 'token': '1', 'delimiter': ','}\")\n",
    "\n",
    "except Exception as ex: \n",
    "\tlogging.error(ex)\n"
   ]
  },
  {
   "cell_type": "markdown",
   "metadata": {},
   "source": [
    "***TRANSFORMING DATAFRAME***"
   ]
  },
  {
   "cell_type": "code",
   "execution_count": null,
   "metadata": {},
   "outputs": [],
   "source": [
    "#%run losHooks.ipynb\n",
    "try:\n",
    "\t#transformationPreExecutionHook()\n",
    "\n",
    "\ttimeseriesfe = TransformationTimeSeriesForecastingMain.run(localfile, json.dumps( {\"FE\": {\"functionList\": [], \"featureList\": [{\"transformationsData\": [{\"transformation_label\": \"novalue\"}], \"feature\": \"eid\", \"transformation\": [{\"transformation\": \"novalue\", \"selectedAsDefault\": 1}], \"type\": \"numeric\", \"replaceby\": \"mean\", \"selected\": \"True\", \"stats\": {\"count\": \"48\", \"mean\": \"29466.58\", \"stddev\": \"268.57\", \"min\": \"29006\", \"max\": \"29988\", \"missing\": \"0\"}, \"updatedLabel\": \"eid\"}, {\"transformationsData\": [{\"feature_label\": \"vdate\", \"transformation_label\": \"String Indexer\"}], \"feature\": \"vdate\", \"type\": \"string\", \"selected\": \"True\", \"replaceby\": \"max\", \"stats\": {\"count\": \"48\", \"mean\": \"\", \"stddev\": \"\", \"min\": \"01/04/12\", \"max\": \"12/31/12\", \"missing\": \"0\"}, \"transformation\": [{\"transformation\": \"String Indexer\", \"selectedAsDefault\": 1}], \"updatedLabel\": \"vdate\"}, {\"transformationsData\": [{\"feature_label\": \"rcount\", \"transformation_label\": \"String Indexer\"}], \"feature\": \"rcount\", \"type\": \"string\", \"selected\": \"True\", \"replaceby\": \"max\", \"stats\": {\"count\": \"48\", \"mean\": \"0.83\", \"stddev\": \"1.15\", \"min\": \"0\", \"max\": \"4\", \"missing\": \"0\"}, \"transformation\": [{\"transformation\": \"String Indexer\", \"selectedAsDefault\": 1}], \"updatedLabel\": \"rcount\"}, {\"transformationsData\": [{\"feature_label\": \"gender\", \"transformation_label\": \"String Indexer\"}], \"feature\": \"gender\", \"type\": \"string\", \"selected\": \"True\", \"replaceby\": \"max\", \"stats\": {\"count\": \"48\", \"mean\": \"\", \"stddev\": \"\", \"min\": \"F\", \"max\": \"M\", \"missing\": \"0\"}, \"transformation\": [{\"transformation\": \"String Indexer\", \"selectedAsDefault\": 1}], \"updatedLabel\": \"gender\"}, {\"transformationsData\": [{\"transformation_label\": \"novalue\"}], \"feature\": \"dialysisrenalendstage\", \"transformation\": [{\"transformation\": \"novalue\", \"selectedAsDefault\": 1}], \"type\": \"numeric\", \"replaceby\": \"mean\", \"selected\": \"True\", \"stats\": {\"count\": \"48\", \"mean\": \"0.0\", \"stddev\": \"0.0\", \"min\": \"0\", \"max\": \"0\", \"missing\": \"0\"}, \"updatedLabel\": \"dialysisrenalendstage\"}, {\"transformationsData\": [{\"transformation_label\": \"novalue\"}], \"feature\": \"asthma\", \"transformation\": [{\"transformation\": \"novalue\", \"selectedAsDefault\": 1}], \"type\": \"numeric\", \"replaceby\": \"mean\", \"selected\": \"True\", \"stats\": {\"count\": \"48\", \"mean\": \"0.0\", \"stddev\": \"0.0\", \"min\": \"0\", \"max\": \"0\", \"missing\": \"0\"}, \"updatedLabel\": \"asthma\"}, {\"transformationsData\": [{\"transformation_label\": \"novalue\"}], \"feature\": \"irondef\", \"transformation\": [{\"transformation\": \"novalue\", \"selectedAsDefault\": 1}], \"type\": \"numeric\", \"replaceby\": \"mean\", \"selected\": \"True\", \"stats\": {\"count\": \"48\", \"mean\": \"0.06\", \"stddev\": \"0.24\", \"min\": \"0\", \"max\": \"1\", \"missing\": \"0\"}, \"updatedLabel\": \"irondef\"}, {\"transformationsData\": [{\"transformation_label\": \"novalue\"}], \"feature\": \"pneum\", \"transformation\": [{\"transformation\": \"novalue\", \"selectedAsDefault\": 1}], \"type\": \"numeric\", \"replaceby\": \"mean\", \"selected\": \"True\", \"stats\": {\"count\": \"48\", \"mean\": \"0.0\", \"stddev\": \"0.0\", \"min\": \"0\", \"max\": \"0\", \"missing\": \"0\"}, \"updatedLabel\": \"pneum\"}, {\"transformationsData\": [{\"transformation_label\": \"novalue\"}], \"feature\": \"substancedependence\", \"transformation\": [{\"transformation\": \"novalue\", \"selectedAsDefault\": 1}], \"type\": \"numeric\", \"replaceby\": \"mean\", \"selected\": \"True\", \"stats\": {\"count\": \"48\", \"mean\": \"0.04\", \"stddev\": \"0.2\", \"min\": \"0\", \"max\": \"1\", \"missing\": \"0\"}, \"updatedLabel\": \"substancedependence\"}, {\"transformationsData\": [{\"transformation_label\": \"novalue\"}], \"feature\": \"psychologicaldisordermajor\", \"transformation\": [{\"transformation\": \"novalue\", \"selectedAsDefault\": 1}], \"type\": \"numeric\", \"replaceby\": \"mean\", \"selected\": \"True\", \"stats\": {\"count\": \"48\", \"mean\": \"0.23\", \"stddev\": \"0.42\", \"min\": \"0\", \"max\": \"1\", \"missing\": \"0\"}, \"updatedLabel\": \"psychologicaldisordermajo...\"}, {\"transformationsData\": [{\"transformation_label\": \"novalue\"}], \"feature\": \"depress\", \"transformation\": [{\"transformation\": \"novalue\", \"selectedAsDefault\": 1}], \"type\": \"numeric\", \"replaceby\": \"mean\", \"selected\": \"True\", \"stats\": {\"count\": \"48\", \"mean\": \"0.06\", \"stddev\": \"0.24\", \"min\": \"0\", \"max\": \"1\", \"missing\": \"0\"}, \"updatedLabel\": \"depress\"}, {\"transformationsData\": [{\"transformation_label\": \"novalue\"}], \"feature\": \"psychother\", \"transformation\": [{\"transformation\": \"novalue\", \"selectedAsDefault\": 1}], \"type\": \"numeric\", \"replaceby\": \"mean\", \"selected\": \"True\", \"stats\": {\"count\": \"48\", \"mean\": \"0.0\", \"stddev\": \"0.0\", \"min\": \"0\", \"max\": \"0\", \"missing\": \"0\"}, \"updatedLabel\": \"psychother\"}, {\"transformationsData\": [{\"transformation_label\": \"novalue\"}], \"feature\": \"fibrosisandother\", \"transformation\": [{\"transformation\": \"novalue\", \"selectedAsDefault\": 1}], \"type\": \"numeric\", \"replaceby\": \"mean\", \"selected\": \"True\", \"stats\": {\"count\": \"48\", \"mean\": \"0.04\", \"stddev\": \"0.2\", \"min\": \"0\", \"max\": \"1\", \"missing\": \"0\"}, \"updatedLabel\": \"fibrosisandother\"}, {\"transformationsData\": [{\"transformation_label\": \"novalue\"}], \"feature\": \"malnutrition\", \"transformation\": [{\"transformation\": \"novalue\", \"selectedAsDefault\": 1}], \"type\": \"numeric\", \"replaceby\": \"mean\", \"selected\": \"True\", \"stats\": {\"count\": \"48\", \"mean\": \"0.06\", \"stddev\": \"0.24\", \"min\": \"0\", \"max\": \"1\", \"missing\": \"0\"}, \"updatedLabel\": \"malnutrition\"}, {\"transformationsData\": [{\"transformation_label\": \"novalue\"}], \"feature\": \"hemo\", \"transformation\": [{\"transformation\": \"novalue\", \"selectedAsDefault\": 1}], \"type\": \"numeric\", \"replaceby\": \"mean\", \"selected\": \"True\", \"stats\": {\"count\": \"48\", \"mean\": \"0.06\", \"stddev\": \"0.24\", \"min\": \"0\", \"max\": \"1\", \"missing\": \"0\"}, \"updatedLabel\": \"hemo\"}, {\"transformationsData\": [{\"transformation_label\": \"novalue\"}], \"feature\": \"hematocrit\", \"type\": \"real\", \"selected\": \"True\", \"replaceby\": \"mean\", \"stats\": {\"count\": \"48\", \"mean\": \"12.44\", \"stddev\": \"2.44\", \"min\": \"7.1\", \"max\": \"20.6\", \"missing\": \"0\"}, \"transformation\": [{\"transformation\": \"novalue\", \"selectedAsDefault\": 1}], \"updatedLabel\": \"hematocrit\"}, {\"transformationsData\": [{\"transformation_label\": \"novalue\"}], \"feature\": \"neutrophils\", \"type\": \"real\", \"selected\": \"True\", \"replaceby\": \"mean\", \"stats\": {\"count\": \"48\", \"mean\": \"11.81\", \"stddev\": \"6.57\", \"min\": \"4.6\", \"max\": \"42.0\", \"missing\": \"0\"}, \"transformation\": [{\"transformation\": \"novalue\", \"selectedAsDefault\": 1}], \"updatedLabel\": \"neutrophils\"}, {\"transformationsData\": [{\"transformation_label\": \"novalue\"}], \"feature\": \"sodium\", \"type\": \"real\", \"selected\": \"True\", \"replaceby\": \"mean\", \"stats\": {\"count\": \"48\", \"mean\": \"137.55\", \"stddev\": \"3.11\", \"min\": \"130.6270038\", \"max\": \"143.6219387\", \"missing\": \"0\"}, \"transformation\": [{\"transformation\": \"novalue\", \"selectedAsDefault\": 1}], \"updatedLabel\": \"sodium\"}, {\"transformationsData\": [{\"transformation_label\": \"novalue\"}], \"feature\": \"glucose\", \"type\": \"real\", \"selected\": \"True\", \"replaceby\": \"mean\", \"stats\": {\"count\": \"48\", \"mean\": \"134.94\", \"stddev\": \"31.8\", \"min\": \"72.72674188\", \"max\": \"207.0787138\", \"missing\": \"0\"}, \"transformation\": [{\"transformation\": \"novalue\", \"selectedAsDefault\": 1}], \"updatedLabel\": \"glucose\"}, {\"transformationsData\": [{\"transformation_label\": \"novalue\"}], \"feature\": \"bloodureanitro\", \"type\": \"real\", \"selected\": \"True\", \"replaceby\": \"mean\", \"stats\": {\"count\": \"48\", \"mean\": \"14.02\", \"stddev\": \"8.77\", \"min\": \"5.0\", \"max\": \"58.0\", \"missing\": \"0\"}, \"transformation\": [{\"transformation\": \"novalue\", \"selectedAsDefault\": 1}], \"updatedLabel\": \"bloodureanitro\"}, {\"transformationsData\": [{\"transformation_label\": \"novalue\"}], \"feature\": \"creatinine\", \"type\": \"real\", \"selected\": \"True\", \"replaceby\": \"mean\", \"stats\": {\"count\": \"48\", \"mean\": \"1.11\", \"stddev\": \"0.18\", \"min\": \"0.545090485\", \"max\": \"1.605085213\", \"missing\": \"0\"}, \"transformation\": [{\"transformation\": \"novalue\", \"selectedAsDefault\": 1}], \"updatedLabel\": \"creatinine\"}, {\"transformationsData\": [{\"transformation_label\": \"novalue\"}], \"feature\": \"bmi\", \"type\": \"real\", \"selected\": \"True\", \"replaceby\": \"mean\", \"stats\": {\"count\": \"48\", \"mean\": \"29.51\", \"stddev\": \"2.29\", \"min\": \"24.66685743\", \"max\": \"34.13418193\", \"missing\": \"0\"}, \"transformation\": [{\"transformation\": \"novalue\", \"selectedAsDefault\": 1}], \"updatedLabel\": \"bmi\"}, {\"transformationsData\": [{\"transformation_label\": \"novalue\"}], \"feature\": \"pulse\", \"type\": \"real\", \"selected\": \"True\", \"replaceby\": \"mean\", \"stats\": {\"count\": \"48\", \"mean\": \"69.57\", \"stddev\": \"10.8\", \"min\": \"45.29707119\", \"max\": \"90.72888745\", \"missing\": \"0\"}, \"transformation\": [{\"transformation\": \"novalue\", \"selectedAsDefault\": 1}], \"updatedLabel\": \"pulse\"}, {\"transformationsData\": [{\"transformation_label\": \"novalue\"}], \"feature\": \"respiration\", \"type\": \"real\", \"selected\": \"True\", \"replaceby\": \"mean\", \"stats\": {\"count\": \"48\", \"mean\": \"6.51\", \"stddev\": \"0.39\", \"min\": \"5.3\", \"max\": \"7.7\", \"missing\": \"0\"}, \"transformation\": [{\"transformation\": \"novalue\", \"selectedAsDefault\": 1}], \"updatedLabel\": \"respiration\"}, {\"transformationsData\": [{\"transformation_label\": \"novalue\"}], \"feature\": \"secondarydiagnosisnonicd9\", \"transformation\": [{\"transformation\": \"novalue\", \"selectedAsDefault\": 1}], \"type\": \"numeric\", \"replaceby\": \"mean\", \"selected\": \"True\", \"stats\": {\"count\": \"48\", \"mean\": \"1.88\", \"stddev\": \"2.05\", \"min\": \"0\", \"max\": \"8\", \"missing\": \"0\"}, \"updatedLabel\": \"secondarydiagnosisnonicd9\"}, {\"transformationsData\": [{\"feature_label\": \"discharged\", \"transformation_label\": \"String Indexer\"}], \"feature\": \"discharged\", \"type\": \"string\", \"selected\": \"True\", \"replaceby\": \"max\", \"stats\": {\"count\": \"48\", \"mean\": \"\", \"stddev\": \"\", \"min\": \"01/04/13\", \"max\": \"12/21/12\", \"missing\": \"0\"}, \"transformation\": [{\"transformation\": \"String Indexer\", \"selectedAsDefault\": 1}], \"updatedLabel\": \"discharged\"}, {\"transformationsData\": [{\"feature_label\": \"facid\", \"transformation_label\": \"String Indexer\"}], \"feature\": \"facid\", \"type\": \"string\", \"selected\": \"True\", \"replaceby\": \"max\", \"stats\": {\"count\": \"48\", \"mean\": \"\", \"stddev\": \"\", \"min\": \"A\", \"max\": \"E\", \"missing\": \"0\"}, \"transformation\": [{\"transformation\": \"String Indexer\", \"selectedAsDefault\": 1}], \"updatedLabel\": \"facid\"}, {\"feature\": \"vdate_stringindexer_transform\", \"transformation\": [{\"transformation\": \"novalue\", \"selectedAsDefault\": 0}], \"transformationsData\": [{\"transformation_label\": \"novalue\"}], \"type\": \"real\", \"selected\": \"True\", \"stats\": {\"count\": \"48\", \"mean\": \"20.69\", \"stddev\": \"13.71\", \"min\": \"0.0\", \"max\": \"44.0\", \"missing\": \"0\"}, \"updatedLabel\": \"vdate_stringindexer_trans...\"}, {\"feature\": \"rcount_stringindexer_transform\", \"transformation\": [{\"transformation\": \"novalue\", \"selectedAsDefault\": 0}], \"transformationsData\": [{\"transformation_label\": \"novalue\"}], \"type\": \"real\", \"selected\": \"True\", \"stats\": {\"count\": \"48\", \"mean\": \"0.83\", \"stddev\": \"1.15\", \"min\": \"0.0\", \"max\": \"4.0\", \"missing\": \"0\"}, \"updatedLabel\": \"rcount_stringindexer_tran...\"}, {\"feature\": \"gender_stringindexer_transform\", \"transformation\": [{\"transformation\": \"novalue\", \"selectedAsDefault\": 0}], \"transformationsData\": [{\"transformation_label\": \"novalue\"}], \"type\": \"numeric\", \"selected\": \"True\", \"stats\": {\"count\": \"48\", \"mean\": \"0.48\", \"stddev\": \"0.5\", \"min\": \"0\", \"max\": \"1\", \"missing\": \"0\"}, \"updatedLabel\": \"gender_stringindexer_tran...\"}, {\"feature\": \"discharged_stringindexer_transform\", \"transformation\": [{\"transformation\": \"novalue\", \"selectedAsDefault\": 0}], \"transformationsData\": [{\"transformation_label\": \"novalue\"}], \"type\": \"real\", \"selected\": \"True\", \"stats\": {\"count\": \"48\", \"mean\": \"19.83\", \"stddev\": \"13.5\", \"min\": \"0.0\", \"max\": \"43.0\", \"missing\": \"0\"}, \"updatedLabel\": \"discharged_stringindexer_...\"}, {\"feature\": \"facid_stringindexer_transform\", \"transformation\": [{\"transformation\": \"novalue\", \"selectedAsDefault\": 0}], \"transformationsData\": [{\"transformation_label\": \"novalue\"}], \"type\": \"real\", \"selected\": \"True\", \"stats\": {\"count\": \"48\", \"mean\": \"1.08\", \"stddev\": \"0.99\", \"min\": \"0.0\", \"max\": \"4.0\", \"missing\": \"0\"}, \"updatedLabel\": \"facid_stringindexer_trans...\"}], \"originalfile\": \"/FileStore/platform/uploadedSourceFiles/LengthOfStay_Prod.csv\", \"features\": {\"timecolumn\": \"vdate\", \"tocompare\": \"discharged\"}, \"dataPercentage\": \"80\"}}))\n",
    "\n",
    "\t#transformationPostExecutionHook(timeseriesfe)\n",
    "\n",
    "except Exception as ex: \n",
    "\tlogging.error(ex)\n"
   ]
  },
  {
   "cell_type": "markdown",
   "metadata": {},
   "source": [
    "***TRAIN MODEL***"
   ]
  },
  {
   "cell_type": "code",
   "execution_count": null,
   "metadata": {},
   "outputs": [],
   "source": [
    "#%run losHooks.ipynb\n",
    "try:\n",
    "\t#mlPreExecutionHook()\n",
    "\n",
    "\tmodel = driverProphet(timeseriesfe)\n",
    "\n",
    "\t#mlPostExecutionHook(model)\n",
    "\n",
    "except Exception as ex: \n",
    "\tlogging.error(ex)\n"
   ]
  },
  {
   "cell_type": "markdown",
   "metadata": {},
   "source": [
    "***PREDICT ON TRAINED MODEL***"
   ]
  },
  {
   "cell_type": "code",
   "execution_count": null,
   "metadata": {},
   "outputs": [],
   "source": [
    "\n",
    "try:\n",
    "        future = model.make_future_dataframe(periods=30,freq='MS',include_history=False)\n",
    "        predictedDataFrame = model.predict(future)\n",
    "        display(model.plot(predictedDataFrame))\n",
    "        display(model.plot_components(predictedDataFrame))\n",
    "        display(predictedDataFrame)\n",
    "except Exception as ex:\n",
    "    logging.error(ex)\n",
    "\n"
   ]
  }
 ],
 "metadata": {},
 "nbformat": 4,
 "nbformat_minor": 2
}
